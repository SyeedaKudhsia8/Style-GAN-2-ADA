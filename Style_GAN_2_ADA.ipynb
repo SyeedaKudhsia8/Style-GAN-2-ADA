{
  "nbformat": 4,
  "nbformat_minor": 0,
  "metadata": {
    "colab": {
      "name": "Style GAN 2 ADA.ipynb",
      "provenance": [],
      "collapsed_sections": [],
      "machine_shape": "hm"
    },
    "kernelspec": {
      "name": "python3",
      "display_name": "Python 3"
    },
    "language_info": {
      "name": "python"
    },
    "accelerator": "GPU"
  },
  "cells": [
    {
      "cell_type": "markdown",
      "metadata": {
        "id": "PhGrnvyXyHRw"
      },
      "source": [
        "#StyleGAN2-ADA\n"
      ]
    },
    {
      "cell_type": "markdown",
      "metadata": {
        "id": "7udpMe1mOiQH"
      },
      "source": [
        "Style GAN 2 ADA is trained in Colab PRO version which works on a single GPU. Sometimes it allocates Tesla P100 (a bit slow) otherwise Tesla V100 (faster version).\n",
        "\n"
      ]
    },
    {
      "cell_type": "markdown",
      "metadata": {
        "id": "_ckr5sukPIqT"
      },
      "source": [
        "Here we consider PyTorch older version in order to escape from unusual warnings."
      ]
    },
    {
      "cell_type": "code",
      "metadata": {
        "id": "tPm5VE_yORHE",
        "colab": {
          "base_uri": "https://localhost:8080/"
        },
        "outputId": "209bd457-a329-4e04-f886-162e76a3a00a"
      },
      "source": [
        "!pip install torch==1.8.1"
      ],
      "execution_count": null,
      "outputs": [
        {
          "output_type": "stream",
          "text": [
            "Collecting torch==1.8.1\n",
            "  Downloading torch-1.8.1-cp37-cp37m-manylinux1_x86_64.whl (804.1 MB)\n",
            "\u001b[K     |████████████████████████████████| 804.1 MB 2.6 kB/s \n",
            "\u001b[?25hRequirement already satisfied: numpy in /usr/local/lib/python3.7/dist-packages (from torch==1.8.1) (1.19.5)\n",
            "Requirement already satisfied: typing-extensions in /usr/local/lib/python3.7/dist-packages (from torch==1.8.1) (3.7.4.3)\n",
            "Installing collected packages: torch\n",
            "  Attempting uninstall: torch\n",
            "    Found existing installation: torch 1.9.0+cu102\n",
            "    Uninstalling torch-1.9.0+cu102:\n",
            "      Successfully uninstalled torch-1.9.0+cu102\n",
            "\u001b[31mERROR: pip's dependency resolver does not currently take into account all the packages that are installed. This behaviour is the source of the following dependency conflicts.\n",
            "torchvision 0.10.0+cu102 requires torch==1.9.0, but you have torch 1.8.1 which is incompatible.\n",
            "torchtext 0.10.0 requires torch==1.9.0, but you have torch 1.8.1 which is incompatible.\u001b[0m\n",
            "Successfully installed torch-1.8.1\n"
          ],
          "name": "stdout"
        }
      ]
    },
    {
      "cell_type": "code",
      "metadata": {
        "id": "fPLjrlFsPXGe",
        "colab": {
          "base_uri": "https://localhost:8080/"
        },
        "outputId": "bec6ffa2-c91b-4921-8b59-f4da39de59f4"
      },
      "source": [
        "!pip install torchvision==0.9.1"
      ],
      "execution_count": null,
      "outputs": [
        {
          "output_type": "stream",
          "text": [
            "Collecting torchvision==0.9.1\n",
            "  Downloading torchvision-0.9.1-cp37-cp37m-manylinux1_x86_64.whl (17.4 MB)\n",
            "\u001b[K     |████████████████████████████████| 17.4 MB 229 kB/s \n",
            "\u001b[?25hRequirement already satisfied: pillow>=4.1.1 in /usr/local/lib/python3.7/dist-packages (from torchvision==0.9.1) (7.1.2)\n",
            "Requirement already satisfied: torch==1.8.1 in /usr/local/lib/python3.7/dist-packages (from torchvision==0.9.1) (1.8.1)\n",
            "Requirement already satisfied: numpy in /usr/local/lib/python3.7/dist-packages (from torchvision==0.9.1) (1.19.5)\n",
            "Requirement already satisfied: typing-extensions in /usr/local/lib/python3.7/dist-packages (from torch==1.8.1->torchvision==0.9.1) (3.7.4.3)\n",
            "Installing collected packages: torchvision\n",
            "  Attempting uninstall: torchvision\n",
            "    Found existing installation: torchvision 0.10.0+cu102\n",
            "    Uninstalling torchvision-0.10.0+cu102:\n",
            "      Successfully uninstalled torchvision-0.10.0+cu102\n",
            "Successfully installed torchvision-0.9.1\n"
          ],
          "name": "stdout"
        }
      ]
    },
    {
      "cell_type": "code",
      "metadata": {
        "id": "oVSqzuLdPW9x",
        "colab": {
          "base_uri": "https://localhost:8080/",
          "height": 35
        },
        "outputId": "bf3c6938-24c3-44dc-aae0-93cca09c4490"
      },
      "source": [
        "import torch\n",
        "torch.__version__"
      ],
      "execution_count": null,
      "outputs": [
        {
          "output_type": "execute_result",
          "data": {
            "application/vnd.google.colaboratory.intrinsic+json": {
              "type": "string"
            },
            "text/plain": [
              "'1.8.1+cu102'"
            ]
          },
          "metadata": {
            "tags": []
          },
          "execution_count": 4
        }
      ]
    },
    {
      "cell_type": "code",
      "metadata": {
        "id": "q78hqIrSPWps",
        "colab": {
          "base_uri": "https://localhost:8080/"
        },
        "outputId": "c91d2dca-a0e9-415c-8614-9183e4b07cd3"
      },
      "source": [
        "!nvidia-smi"
      ],
      "execution_count": null,
      "outputs": [
        {
          "output_type": "stream",
          "text": [
            "Sat Aug  7 12:23:11 2021       \n",
            "+-----------------------------------------------------------------------------+\n",
            "| NVIDIA-SMI 470.42.01    Driver Version: 460.32.03    CUDA Version: 11.2     |\n",
            "|-------------------------------+----------------------+----------------------+\n",
            "| GPU  Name        Persistence-M| Bus-Id        Disp.A | Volatile Uncorr. ECC |\n",
            "| Fan  Temp  Perf  Pwr:Usage/Cap|         Memory-Usage | GPU-Util  Compute M. |\n",
            "|                               |                      |               MIG M. |\n",
            "|===============================+======================+======================|\n",
            "|   0  Tesla P100-PCIE...  Off  | 00000000:00:04.0 Off |                    0 |\n",
            "| N/A   36C    P0    29W / 250W |      0MiB / 16280MiB |      0%      Default |\n",
            "|                               |                      |                  N/A |\n",
            "+-------------------------------+----------------------+----------------------+\n",
            "                                                                               \n",
            "+-----------------------------------------------------------------------------+\n",
            "| Processes:                                                                  |\n",
            "|  GPU   GI   CI        PID   Type   Process name                  GPU Memory |\n",
            "|        ID   ID                                                   Usage      |\n",
            "|=============================================================================|\n",
            "|  No running processes found                                                 |\n",
            "+-----------------------------------------------------------------------------+\n"
          ],
          "name": "stdout"
        }
      ]
    },
    {
      "cell_type": "markdown",
      "metadata": {
        "id": "pc_SqnQZPgiy"
      },
      "source": [
        "Setting up the new environment"
      ]
    },
    {
      "cell_type": "code",
      "metadata": {
        "id": "o-vccDRDPjxL",
        "colab": {
          "base_uri": "https://localhost:8080/"
        },
        "outputId": "1da0ce0d-eb2b-4cbb-9cd0-c9637ba02468"
      },
      "source": [
        "try:\n",
        "    from google.colab import drive\n",
        "    drive.mount('/content/drive', force_remount=True)\n",
        "    COLAB = True\n",
        "    print(\"Note: using Google CoLab\")\n",
        "except:\n",
        "    print(\"Note: not using Google CoLab\")\n",
        "    COLAB = False"
      ],
      "execution_count": null,
      "outputs": [
        {
          "output_type": "stream",
          "text": [
            "Mounted at /content/drive\n",
            "Note: using Google CoLab\n"
          ],
          "name": "stdout"
        }
      ]
    },
    {
      "cell_type": "markdown",
      "metadata": {
        "id": "xtvUTPafPqbj"
      },
      "source": [
        " Installing NVIDIA StyleGAN2 ADA PyTorch."
      ]
    },
    {
      "cell_type": "code",
      "metadata": {
        "id": "K14BHnfwPj7Y",
        "colab": {
          "base_uri": "https://localhost:8080/"
        },
        "outputId": "35c45e04-7581-4e49-cc2b-74563eb0690b"
      },
      "source": [
        "!git clone https://github.com/NVlabs/stylegan2-ada-pytorch.git\n",
        "!pip install ninja"
      ],
      "execution_count": null,
      "outputs": [
        {
          "output_type": "stream",
          "text": [
            "Cloning into 'stylegan2-ada-pytorch'...\n",
            "remote: Enumerating objects: 125, done.\u001b[K\n",
            "remote: Total 125 (delta 0), reused 0 (delta 0), pack-reused 125\u001b[K\n",
            "Receiving objects: 100% (125/125), 1.12 MiB | 23.94 MiB/s, done.\n",
            "Resolving deltas: 100% (55/55), done.\n",
            "Collecting ninja\n",
            "  Downloading ninja-1.10.2-py2.py3-none-manylinux_2_5_x86_64.manylinux1_x86_64.whl (108 kB)\n",
            "\u001b[K     |████████████████████████████████| 108 kB 8.7 MB/s \n",
            "\u001b[?25hInstalling collected packages: ninja\n",
            "Successfully installed ninja-1.10.2\n"
          ],
          "name": "stdout"
        }
      ]
    },
    {
      "cell_type": "markdown",
      "metadata": {
        "id": "Y1xh8J0tQlLv"
      },
      "source": [
        "Convert the Images\n"
      ]
    },
    {
      "cell_type": "code",
      "metadata": {
        "id": "IWJeGkEZQnai"
      },
      "source": [
        "!python /content/stylegan2-ada-pytorch/dataset_tool.py --source /content/drive/MyDrive/Pre_Processed_Data/Data_all_done --dest /content/drive/MyDrive/dataset"
      ],
      "execution_count": null,
      "outputs": []
    },
    {
      "cell_type": "markdown",
      "metadata": {
        "id": "81BV2fZnQ1jm"
      },
      "source": [
        "Clean Up Images\n",
        "\n",
        "Checking the images for same dimensions and color depth. "
      ]
    },
    {
      "cell_type": "code",
      "metadata": {
        "id": "xfqCRSVTQtK6"
      },
      "source": [
        "from os import listdir\n",
        "from os.path import isfile, join\n",
        "import os\n",
        "from PIL import Image\n",
        "from tqdm.notebook import tqdm\n",
        "\n",
        "IMAGE_PATH = '/content/drive/MyDrive/Pre_Processed_Data/Data_all_done'\n",
        "files = [f for f in listdir(IMAGE_PATH) if isfile(join(IMAGE_PATH, f))]\n",
        "\n",
        "base_size = None\n",
        "for file in tqdm(files):\n",
        "  file2 = os.path.join(IMAGE_PATH,file)\n",
        "  img = Image.open(file2)\n",
        "  sz = img.size\n",
        "  if base_size and sz!=base_size:\n",
        "    print(f\"Inconsistant size: {file2}\")\n",
        "  elif img.mode!='RGB':\n",
        "  else:\n",
        "    base_size = sz\n"
      ],
      "execution_count": null,
      "outputs": []
    },
    {
      "cell_type": "markdown",
      "metadata": {
        "id": "ewwRNJxbR28q"
      },
      "source": [
        "Initial training"
      ]
    },
    {
      "cell_type": "code",
      "metadata": {
        "id": "CjaYQ4ILR5Mc"
      },
      "source": [
        "import os\n",
        "\n",
        "# Modify these to suit your needs\n",
        "EXPERIMENTS = \"/content/drive/MyDrive/experiments\"\n",
        "DATA = \"/content/drive/MyDrive/dataset\"\n",
        "SNAP = 10\n",
        "\n",
        "# Build the command and run it\n",
        "cmd = f\"/usr/bin/python3 /content/stylegan2-ada-pytorch/train.py --snap {SNAP} --outdir {EXPERIMENTS} --data {DATA}\"\n",
        "!{cmd}"
      ],
      "execution_count": null,
      "outputs": []
    },
    {
      "cell_type": "markdown",
      "metadata": {
        "id": "3qKjWKDLR8rv"
      },
      "source": [
        "Resume training"
      ]
    },
    {
      "cell_type": "code",
      "metadata": {
        "id": "hoyX5oLySBqr",
        "colab": {
          "base_uri": "https://localhost:8080/"
        },
        "outputId": "dfb4a706-5db7-4314-f7a5-04fda6a5274e"
      },
      "source": [
        "import os\n",
        "\n",
        "# Modify these to suit your needs\n",
        "EXPERIMENTS = \"/content/drive/MyDrive/experiments\"\n",
        "NETWORK = \"network-snapshot-000240.pkl\"\n",
        "RESUME = os.path.join(EXPERIMENTS, \"00098-dataset-auto1-resumecustom\", NETWORK)\n",
        "DATA = \"/content/drive/MyDrive/dataset\"\n",
        "SNAP = 10 \n",
        "\n",
        "# Build the command and run it\n",
        "cmd = f\"/usr/bin/python3 /content/stylegan2-ada-pytorch/train.py --snap {SNAP} --resume {RESUME} --outdir {EXPERIMENTS} --data {DATA}\"\n",
        "!{cmd}"
      ],
      "execution_count": null,
      "outputs": [
        {
          "output_type": "stream",
          "text": [
            "\n",
            "Training options:\n",
            "{\n",
            "  \"num_gpus\": 1,\n",
            "  \"image_snapshot_ticks\": 10,\n",
            "  \"network_snapshot_ticks\": 10,\n",
            "  \"metrics\": [\n",
            "    \"fid50k_full\"\n",
            "  ],\n",
            "  \"random_seed\": 0,\n",
            "  \"training_set_kwargs\": {\n",
            "    \"class_name\": \"training.dataset.ImageFolderDataset\",\n",
            "    \"path\": \"/content/drive/MyDrive/dataset\",\n",
            "    \"use_labels\": false,\n",
            "    \"max_size\": 924,\n",
            "    \"xflip\": false,\n",
            "    \"resolution\": 256\n",
            "  },\n",
            "  \"data_loader_kwargs\": {\n",
            "    \"pin_memory\": true,\n",
            "    \"num_workers\": 3,\n",
            "    \"prefetch_factor\": 2\n",
            "  },\n",
            "  \"G_kwargs\": {\n",
            "    \"class_name\": \"training.networks.Generator\",\n",
            "    \"z_dim\": 512,\n",
            "    \"w_dim\": 512,\n",
            "    \"mapping_kwargs\": {\n",
            "      \"num_layers\": 2\n",
            "    },\n",
            "    \"synthesis_kwargs\": {\n",
            "      \"channel_base\": 16384,\n",
            "      \"channel_max\": 512,\n",
            "      \"num_fp16_res\": 4,\n",
            "      \"conv_clamp\": 256\n",
            "    }\n",
            "  },\n",
            "  \"D_kwargs\": {\n",
            "    \"class_name\": \"training.networks.Discriminator\",\n",
            "    \"block_kwargs\": {},\n",
            "    \"mapping_kwargs\": {},\n",
            "    \"epilogue_kwargs\": {\n",
            "      \"mbstd_group_size\": 4\n",
            "    },\n",
            "    \"channel_base\": 16384,\n",
            "    \"channel_max\": 512,\n",
            "    \"num_fp16_res\": 4,\n",
            "    \"conv_clamp\": 256\n",
            "  },\n",
            "  \"G_opt_kwargs\": {\n",
            "    \"class_name\": \"torch.optim.Adam\",\n",
            "    \"lr\": 0.0025,\n",
            "    \"betas\": [\n",
            "      0,\n",
            "      0.99\n",
            "    ],\n",
            "    \"eps\": 1e-08\n",
            "  },\n",
            "  \"D_opt_kwargs\": {\n",
            "    \"class_name\": \"torch.optim.Adam\",\n",
            "    \"lr\": 0.0025,\n",
            "    \"betas\": [\n",
            "      0,\n",
            "      0.99\n",
            "    ],\n",
            "    \"eps\": 1e-08\n",
            "  },\n",
            "  \"loss_kwargs\": {\n",
            "    \"class_name\": \"training.loss.StyleGAN2Loss\",\n",
            "    \"r1_gamma\": 0.8192\n",
            "  },\n",
            "  \"total_kimg\": 25000,\n",
            "  \"batch_size\": 16,\n",
            "  \"batch_gpu\": 16,\n",
            "  \"ema_kimg\": 5.0,\n",
            "  \"ema_rampup\": null,\n",
            "  \"ada_target\": 0.6,\n",
            "  \"augment_kwargs\": {\n",
            "    \"class_name\": \"training.augment.AugmentPipe\",\n",
            "    \"xflip\": 1,\n",
            "    \"rotate90\": 1,\n",
            "    \"xint\": 1,\n",
            "    \"scale\": 1,\n",
            "    \"rotate\": 1,\n",
            "    \"aniso\": 1,\n",
            "    \"xfrac\": 1,\n",
            "    \"brightness\": 1,\n",
            "    \"contrast\": 1,\n",
            "    \"lumaflip\": 1,\n",
            "    \"hue\": 1,\n",
            "    \"saturation\": 1\n",
            "  },\n",
            "  \"resume_pkl\": \"/content/drive/MyDrive/experiments/00098-dataset-auto1-resumecustom/network-snapshot-000240.pkl\",\n",
            "  \"ada_kimg\": 100,\n",
            "  \"run_dir\": \"/content/drive/MyDrive/experiments/00099-dataset-auto1-resumecustom\"\n",
            "}\n",
            "\n",
            "Output directory:   /content/drive/MyDrive/experiments/00099-dataset-auto1-resumecustom\n",
            "Training data:      /content/drive/MyDrive/dataset\n",
            "Training duration:  25000 kimg\n",
            "Number of GPUs:     1\n",
            "Number of images:   924\n",
            "Image resolution:   256\n",
            "Conditional model:  False\n",
            "Dataset x-flips:    False\n",
            "\n",
            "Creating output directory...\n",
            "Launching processes...\n",
            "Loading training set...\n",
            "\n",
            "Num images:  924\n",
            "Image shape: [3, 256, 256]\n",
            "Label shape: [0]\n",
            "\n",
            "Constructing networks...\n",
            "Resuming from \"/content/drive/MyDrive/experiments/00098-dataset-auto1-resumecustom/network-snapshot-000240.pkl\"\n",
            "Setting up PyTorch plugin \"bias_act_plugin\"... Done.\n",
            "Setting up PyTorch plugin \"upfirdn2d_plugin\"... Done.\n",
            "\n",
            "Generator             Parameters  Buffers  Output shape         Datatype\n",
            "---                   ---         ---      ---                  ---     \n",
            "mapping.fc0           262656      -        [16, 512]            float32 \n",
            "mapping.fc1           262656      -        [16, 512]            float32 \n",
            "mapping               -           512      [16, 14, 512]        float32 \n",
            "synthesis.b4.conv1    2622465     32       [16, 512, 4, 4]      float32 \n",
            "synthesis.b4.torgb    264195      -        [16, 3, 4, 4]        float32 \n",
            "synthesis.b4:0        8192        16       [16, 512, 4, 4]      float32 \n",
            "synthesis.b4:1        -           -        [16, 512, 4, 4]      float32 \n",
            "synthesis.b8.conv0    2622465     80       [16, 512, 8, 8]      float32 \n",
            "synthesis.b8.conv1    2622465     80       [16, 512, 8, 8]      float32 \n",
            "synthesis.b8.torgb    264195      -        [16, 3, 8, 8]        float32 \n",
            "synthesis.b8:0        -           16       [16, 512, 8, 8]      float32 \n",
            "synthesis.b8:1        -           -        [16, 512, 8, 8]      float32 \n",
            "synthesis.b16.conv0   2622465     272      [16, 512, 16, 16]    float32 \n",
            "synthesis.b16.conv1   2622465     272      [16, 512, 16, 16]    float32 \n",
            "synthesis.b16.torgb   264195      -        [16, 3, 16, 16]      float32 \n",
            "synthesis.b16:0       -           16       [16, 512, 16, 16]    float32 \n",
            "synthesis.b16:1       -           -        [16, 512, 16, 16]    float32 \n",
            "synthesis.b32.conv0   2622465     1040     [16, 512, 32, 32]    float16 \n",
            "synthesis.b32.conv1   2622465     1040     [16, 512, 32, 32]    float16 \n",
            "synthesis.b32.torgb   264195      -        [16, 3, 32, 32]      float16 \n",
            "synthesis.b32:0       -           16       [16, 512, 32, 32]    float16 \n",
            "synthesis.b32:1       -           -        [16, 512, 32, 32]    float32 \n",
            "synthesis.b64.conv0   1442561     4112     [16, 256, 64, 64]    float16 \n",
            "synthesis.b64.conv1   721409      4112     [16, 256, 64, 64]    float16 \n",
            "synthesis.b64.torgb   132099      -        [16, 3, 64, 64]      float16 \n",
            "synthesis.b64:0       -           16       [16, 256, 64, 64]    float16 \n",
            "synthesis.b64:1       -           -        [16, 256, 64, 64]    float32 \n",
            "synthesis.b128.conv0  426369      16400    [16, 128, 128, 128]  float16 \n",
            "synthesis.b128.conv1  213249      16400    [16, 128, 128, 128]  float16 \n",
            "synthesis.b128.torgb  66051       -        [16, 3, 128, 128]    float16 \n",
            "synthesis.b128:0      -           16       [16, 128, 128, 128]  float16 \n",
            "synthesis.b128:1      -           -        [16, 128, 128, 128]  float32 \n",
            "synthesis.b256.conv0  139457      65552    [16, 64, 256, 256]   float16 \n",
            "synthesis.b256.conv1  69761       65552    [16, 64, 256, 256]   float16 \n",
            "synthesis.b256.torgb  33027       -        [16, 3, 256, 256]    float16 \n",
            "synthesis.b256:0      -           16       [16, 64, 256, 256]   float16 \n",
            "synthesis.b256:1      -           -        [16, 64, 256, 256]   float32 \n",
            "---                   ---         ---      ---                  ---     \n",
            "Total                 23191522    175568   -                    -       \n",
            "\n",
            "\n",
            "Discriminator  Parameters  Buffers  Output shape         Datatype\n",
            "---            ---         ---      ---                  ---     \n",
            "b256.fromrgb   256         16       [16, 64, 256, 256]   float16 \n",
            "b256.skip      8192        16       [16, 128, 128, 128]  float16 \n",
            "b256.conv0     36928       16       [16, 64, 256, 256]   float16 \n",
            "b256.conv1     73856       16       [16, 128, 128, 128]  float16 \n",
            "b256           -           16       [16, 128, 128, 128]  float16 \n",
            "b128.skip      32768       16       [16, 256, 64, 64]    float16 \n",
            "b128.conv0     147584      16       [16, 128, 128, 128]  float16 \n",
            "b128.conv1     295168      16       [16, 256, 64, 64]    float16 \n",
            "b128           -           16       [16, 256, 64, 64]    float16 \n",
            "b64.skip       131072      16       [16, 512, 32, 32]    float16 \n",
            "b64.conv0      590080      16       [16, 256, 64, 64]    float16 \n",
            "b64.conv1      1180160     16       [16, 512, 32, 32]    float16 \n",
            "b64            -           16       [16, 512, 32, 32]    float16 \n",
            "b32.skip       262144      16       [16, 512, 16, 16]    float16 \n",
            "b32.conv0      2359808     16       [16, 512, 32, 32]    float16 \n",
            "b32.conv1      2359808     16       [16, 512, 16, 16]    float16 \n",
            "b32            -           16       [16, 512, 16, 16]    float16 \n",
            "b16.skip       262144      16       [16, 512, 8, 8]      float32 \n",
            "b16.conv0      2359808     16       [16, 512, 16, 16]    float32 \n",
            "b16.conv1      2359808     16       [16, 512, 8, 8]      float32 \n",
            "b16            -           16       [16, 512, 8, 8]      float32 \n",
            "b8.skip        262144      16       [16, 512, 4, 4]      float32 \n",
            "b8.conv0       2359808     16       [16, 512, 8, 8]      float32 \n",
            "b8.conv1       2359808     16       [16, 512, 4, 4]      float32 \n",
            "b8             -           16       [16, 512, 4, 4]      float32 \n",
            "b4.mbstd       -           -        [16, 513, 4, 4]      float32 \n",
            "b4.conv        2364416     16       [16, 512, 4, 4]      float32 \n",
            "b4.fc          4194816     -        [16, 512]            float32 \n",
            "b4.out         513         -        [16, 1]              float32 \n",
            "---            ---         ---      ---                  ---     \n",
            "Total          24001089    416      -                    -       \n",
            "\n",
            "Setting up augmentation...\n",
            "Distributing across 1 GPUs...\n",
            "Setting up training phases...\n",
            "Exporting sample images...\n",
            "Initializing logs...\n",
            "2021-08-07 12:27:44.975136: I tensorflow/stream_executor/platform/default/dso_loader.cc:53] Successfully opened dynamic library libcudart.so.11.0\n",
            "Training for 25000 kimg...\n",
            "\n",
            "tick 0     kimg 0.0      time 2m 45s       sec/tick 9.1     sec/kimg 570.79  maintenance 155.7  cpumem 4.61   gpumem 12.63  augment 0.000\n",
            "Evaluating metrics...\n",
            "{\"results\": {\"fid50k_full\": 35.39835615114336}, \"metric\": \"fid50k_full\", \"total_time\": 621.9426662921906, \"total_time_str\": \"10m 22s\", \"num_gpus\": 1, \"snapshot_pkl\": \"network-snapshot-000000.pkl\", \"timestamp\": 1628339913.9042158}\n",
            "tick 1     kimg 4.0      time 17m 49s      sec/tick 265.0   sec/kimg 66.25   maintenance 638.8  cpumem 4.71   gpumem 9.39   augment 0.038\n",
            "tick 2     kimg 8.0      time 22m 15s      sec/tick 265.9   sec/kimg 66.48   maintenance 0.2    cpumem 4.71   gpumem 5.38   augment 0.079\n",
            "tick 3     kimg 12.0     time 26m 40s      sec/tick 265.3   sec/kimg 66.32   maintenance 0.2    cpumem 4.71   gpumem 5.40   augment 0.047\n",
            "tick 4     kimg 16.0     time 31m 06s      sec/tick 265.8   sec/kimg 66.44   maintenance 0.2    cpumem 4.71   gpumem 5.36   augment 0.006\n",
            "tick 5     kimg 20.0     time 35m 31s      sec/tick 265.1   sec/kimg 66.26   maintenance 0.2    cpumem 4.71   gpumem 5.36   augment 0.000\n",
            "tick 6     kimg 24.0     time 39m 57s      sec/tick 265.2   sec/kimg 66.30   maintenance 0.2    cpumem 4.71   gpumem 5.38   augment 0.033\n",
            "tick 7     kimg 28.0     time 44m 22s      sec/tick 265.5   sec/kimg 66.38   maintenance 0.2    cpumem 4.72   gpumem 5.41   augment 0.071\n",
            "tick 8     kimg 32.0     time 48m 49s      sec/tick 266.0   sec/kimg 66.51   maintenance 0.2    cpumem 4.72   gpumem 5.43   augment 0.109\n",
            "tick 9     kimg 36.0     time 53m 14s      sec/tick 265.4   sec/kimg 66.35   maintenance 0.2    cpumem 4.72   gpumem 5.43   augment 0.148\n",
            "tick 10    kimg 40.0     time 57m 41s      sec/tick 266.4   sec/kimg 66.59   maintenance 0.2    cpumem 4.72   gpumem 5.48   augment 0.186\n",
            "Evaluating metrics...\n",
            "{\"results\": {\"fid50k_full\": 39.2544743029866}, \"metric\": \"fid50k_full\", \"total_time\": 583.7764134407043, \"total_time_str\": \"9m 44s\", \"num_gpus\": 1, \"snapshot_pkl\": \"network-snapshot-000040.pkl\", \"timestamp\": 1628343172.7425387}\n",
            "tick 11    kimg 44.0     time 1h 12m 08s   sec/tick 265.7   sec/kimg 66.42   maintenance 601.6  cpumem 5.42   gpumem 5.43   augment 0.225\n",
            "tick 12    kimg 48.0     time 1h 16m 35s   sec/tick 266.7   sec/kimg 66.67   maintenance 0.2    cpumem 5.42   gpumem 5.45   augment 0.262\n",
            "tick 13    kimg 52.0     time 1h 21m 02s   sec/tick 266.4   sec/kimg 66.61   maintenance 0.2    cpumem 5.42   gpumem 5.45   augment 0.300\n",
            "tick 14    kimg 56.0     time 1h 25m 28s   sec/tick 266.4   sec/kimg 66.61   maintenance 0.2    cpumem 5.42   gpumem 5.48   augment 0.337\n",
            "tick 15    kimg 60.0     time 1h 29m 55s   sec/tick 266.6   sec/kimg 66.66   maintenance 0.2    cpumem 5.42   gpumem 5.51   augment 0.377\n",
            "tick 16    kimg 64.0     time 1h 34m 22s   sec/tick 267.0   sec/kimg 66.76   maintenance 0.2    cpumem 5.42   gpumem 5.47   augment 0.417\n",
            "tick 17    kimg 68.0     time 1h 38m 49s   sec/tick 266.4   sec/kimg 66.60   maintenance 0.2    cpumem 5.42   gpumem 5.48   augment 0.457\n",
            "tick 18    kimg 72.0     time 1h 43m 16s   sec/tick 267.3   sec/kimg 66.82   maintenance 0.2    cpumem 5.42   gpumem 5.55   augment 0.497\n",
            "tick 19    kimg 76.0     time 1h 47m 43s   sec/tick 266.6   sec/kimg 66.65   maintenance 0.2    cpumem 5.42   gpumem 5.49   augment 0.537\n",
            "tick 20    kimg 80.0     time 1h 52m 11s   sec/tick 267.5   sec/kimg 66.87   maintenance 0.2    cpumem 5.42   gpumem 5.52   augment 0.576\n",
            "Evaluating metrics...\n",
            "{\"results\": {\"fid50k_full\": 36.84447963156847}, \"metric\": \"fid50k_full\", \"total_time\": 576.4146661758423, \"total_time_str\": \"9m 36s\", \"num_gpus\": 1, \"snapshot_pkl\": \"network-snapshot-000080.pkl\", \"timestamp\": 1628346435.3353317}\n",
            "tick 21    kimg 84.0     time 2h 06m 32s   sec/tick 267.3   sec/kimg 66.82   maintenance 594.2  cpumem 5.77   gpumem 5.50   augment 0.611\n",
            "tick 22    kimg 88.0     time 2h 11m 00s   sec/tick 267.3   sec/kimg 66.82   maintenance 0.2    cpumem 5.77   gpumem 5.52   augment 0.650\n",
            "tick 23    kimg 92.0     time 2h 15m 27s   sec/tick 267.4   sec/kimg 66.85   maintenance 0.2    cpumem 5.77   gpumem 5.53   augment 0.687\n",
            "tick 24    kimg 96.0     time 2h 19m 55s   sec/tick 267.8   sec/kimg 66.96   maintenance 0.2    cpumem 5.77   gpumem 5.56   augment 0.727\n",
            "tick 25    kimg 100.0    time 2h 24m 23s   sec/tick 267.1   sec/kimg 66.78   maintenance 0.2    cpumem 5.77   gpumem 5.55   augment 0.765\n",
            "tick 26    kimg 104.0    time 2h 28m 51s   sec/tick 268.0   sec/kimg 66.99   maintenance 0.2    cpumem 5.78   gpumem 5.52   augment 0.804\n",
            "tick 27    kimg 108.0    time 2h 33m 18s   sec/tick 267.3   sec/kimg 66.83   maintenance 0.2    cpumem 5.78   gpumem 5.52   augment 0.844\n",
            "tick 28    kimg 112.0    time 2h 37m 47s   sec/tick 268.3   sec/kimg 67.07   maintenance 0.2    cpumem 5.78   gpumem 5.59   augment 0.883\n",
            "tick 29    kimg 116.0    time 2h 42m 15s   sec/tick 267.9   sec/kimg 66.98   maintenance 0.2    cpumem 5.78   gpumem 5.55   augment 0.922\n",
            "tick 30    kimg 120.0    time 2h 46m 43s   sec/tick 267.9   sec/kimg 66.99   maintenance 0.2    cpumem 5.78   gpumem 5.57   augment 0.959\n",
            "Evaluating metrics...\n",
            "{\"results\": {\"fid50k_full\": 36.58362212866295}, \"metric\": \"fid50k_full\", \"total_time\": 578.3023774623871, \"total_time_str\": \"9m 38s\", \"num_gpus\": 1, \"snapshot_pkl\": \"network-snapshot-000120.pkl\", \"timestamp\": 1628349708.7075043}\n",
            "tick 31    kimg 124.0    time 3h 01m 06s   sec/tick 268.1   sec/kimg 67.02   maintenance 595.3  cpumem 5.78   gpumem 5.58   augment 0.997\n",
            "tick 32    kimg 128.0    time 3h 05m 35s   sec/tick 268.5   sec/kimg 67.13   maintenance 0.2    cpumem 5.78   gpumem 5.57   augment 1.036\n",
            "tick 33    kimg 132.0    time 3h 10m 03s   sec/tick 267.7   sec/kimg 66.93   maintenance 0.2    cpumem 5.78   gpumem 5.55   augment 1.075\n",
            "tick 34    kimg 136.0    time 3h 14m 32s   sec/tick 268.5   sec/kimg 67.12   maintenance 0.2    cpumem 5.78   gpumem 5.57   augment 1.114\n",
            "tick 35    kimg 140.0    time 3h 19m 00s   sec/tick 267.8   sec/kimg 66.96   maintenance 0.2    cpumem 5.78   gpumem 5.58   augment 1.152\n",
            "tick 36    kimg 144.0    time 3h 23m 29s   sec/tick 268.6   sec/kimg 67.16   maintenance 0.2    cpumem 5.78   gpumem 5.60   augment 1.191\n",
            "tick 37    kimg 148.0    time 3h 27m 57s   sec/tick 268.2   sec/kimg 67.06   maintenance 0.2    cpumem 5.78   gpumem 5.56   augment 1.231\n",
            "tick 38    kimg 152.0    time 3h 32m 25s   sec/tick 268.3   sec/kimg 67.06   maintenance 0.2    cpumem 5.78   gpumem 5.58   augment 1.271\n",
            "tick 39    kimg 156.0    time 3h 36m 54s   sec/tick 268.3   sec/kimg 67.06   maintenance 0.2    cpumem 5.78   gpumem 5.59   augment 1.309\n",
            "tick 40    kimg 160.0    time 3h 41m 23s   sec/tick 268.6   sec/kimg 67.16   maintenance 0.2    cpumem 5.78   gpumem 5.57   augment 1.347\n",
            "Evaluating metrics...\n",
            "{\"results\": {\"fid50k_full\": 34.24754457852966}, \"metric\": \"fid50k_full\", \"total_time\": 577.4867384433746, \"total_time_str\": \"9m 37s\", \"num_gpus\": 1, \"snapshot_pkl\": \"network-snapshot-000160.pkl\", \"timestamp\": 1628352988.6597116}\n",
            "tick 41    kimg 164.0    time 3h 55m 46s   sec/tick 267.9   sec/kimg 66.97   maintenance 595.7  cpumem 5.78   gpumem 5.56   augment 1.386\n",
            "tick 42    kimg 168.0    time 4h 00m 15s   sec/tick 268.6   sec/kimg 67.16   maintenance 0.2    cpumem 5.78   gpumem 5.58   augment 1.425\n",
            "tick 43    kimg 172.0    time 4h 04m 43s   sec/tick 267.8   sec/kimg 66.95   maintenance 0.2    cpumem 5.78   gpumem 5.56   augment 1.462\n",
            "tick 44    kimg 176.0    time 4h 09m 12s   sec/tick 268.6   sec/kimg 67.15   maintenance 0.2    cpumem 5.78   gpumem 5.59   augment 1.501\n",
            "tick 45    kimg 180.0    time 4h 13m 40s   sec/tick 268.2   sec/kimg 67.06   maintenance 0.2    cpumem 5.78   gpumem 5.57   augment 1.540\n",
            "tick 46    kimg 184.0    time 4h 18m 09s   sec/tick 268.1   sec/kimg 67.03   maintenance 0.2    cpumem 5.78   gpumem 5.56   augment 1.579\n",
            "tick 47    kimg 188.0    time 4h 22m 37s   sec/tick 268.2   sec/kimg 67.06   maintenance 0.2    cpumem 5.78   gpumem 5.60   augment 1.617\n",
            "tick 48    kimg 192.0    time 4h 27m 06s   sec/tick 268.6   sec/kimg 67.15   maintenance 0.2    cpumem 5.78   gpumem 5.58   augment 1.658\n",
            "tick 49    kimg 196.0    time 4h 31m 34s   sec/tick 267.8   sec/kimg 66.95   maintenance 0.2    cpumem 5.78   gpumem 5.60   augment 1.696\n",
            "tick 50    kimg 200.0    time 4h 36m 03s   sec/tick 268.6   sec/kimg 67.15   maintenance 0.2    cpumem 5.78   gpumem 5.59   augment 1.734\n",
            "Evaluating metrics...\n",
            "{\"results\": {\"fid50k_full\": 35.531605986092615}, \"metric\": \"fid50k_full\", \"total_time\": 577.3697874546051, \"total_time_str\": \"9m 37s\", \"num_gpus\": 1, \"snapshot_pkl\": \"network-snapshot-000200.pkl\", \"timestamp\": 1628356269.584512}\n",
            "tick 51    kimg 204.0    time 4h 50m 27s   sec/tick 267.9   sec/kimg 66.96   maintenance 596.8  cpumem 5.78   gpumem 5.57   augment 1.773\n",
            "tick 52    kimg 208.0    time 4h 54m 56s   sec/tick 268.6   sec/kimg 67.16   maintenance 0.2    cpumem 5.78   gpumem 5.59   augment 1.814\n",
            "tick 53    kimg 212.0    time 4h 59m 24s   sec/tick 268.2   sec/kimg 67.06   maintenance 0.2    cpumem 5.78   gpumem 5.57   augment 1.850\n",
            "tick 54    kimg 216.0    time 5h 03m 53s   sec/tick 268.2   sec/kimg 67.05   maintenance 0.2    cpumem 5.78   gpumem 5.58   augment 1.890\n",
            "tick 55    kimg 220.0    time 5h 08m 21s   sec/tick 268.2   sec/kimg 67.06   maintenance 0.2    cpumem 5.78   gpumem 5.63   augment 1.930\n",
            "tick 56    kimg 224.0    time 5h 12m 50s   sec/tick 268.5   sec/kimg 67.12   maintenance 0.2    cpumem 5.78   gpumem 5.57   augment 1.966\n",
            "tick 57    kimg 228.0    time 5h 17m 18s   sec/tick 267.8   sec/kimg 66.95   maintenance 0.2    cpumem 5.78   gpumem 5.62   augment 2.004\n",
            "tick 58    kimg 232.0    time 5h 21m 47s   sec/tick 268.6   sec/kimg 67.15   maintenance 0.2    cpumem 5.78   gpumem 5.58   augment 2.044\n",
            "tick 59    kimg 236.0    time 5h 26m 15s   sec/tick 267.9   sec/kimg 66.96   maintenance 0.2    cpumem 5.78   gpumem 5.61   augment 2.083\n",
            "tick 60    kimg 240.0    time 5h 30m 43s   sec/tick 268.5   sec/kimg 67.13   maintenance 0.2    cpumem 5.78   gpumem 5.56   augment 2.123\n",
            "Evaluating metrics...\n",
            "{\"results\": {\"fid50k_full\": 38.946393770873534}, \"metric\": \"fid50k_full\", \"total_time\": 578.001143693924, \"total_time_str\": \"9m 38s\", \"num_gpus\": 1, \"snapshot_pkl\": \"network-snapshot-000240.pkl\", \"timestamp\": 1628359548.8405013}\n",
            "tick 61    kimg 244.0    time 5h 45m 07s   sec/tick 268.2   sec/kimg 67.05   maintenance 595.1  cpumem 5.78   gpumem 5.54   augment 2.159\n",
            "tick 62    kimg 248.0    time 5h 49m 35s   sec/tick 268.2   sec/kimg 67.04   maintenance 0.2    cpumem 5.78   gpumem 5.59   augment 2.195\n",
            "tick 63    kimg 252.0    time 5h 54m 04s   sec/tick 268.2   sec/kimg 67.06   maintenance 0.2    cpumem 5.78   gpumem 5.61   augment 2.232\n",
            "tick 64    kimg 256.0    time 5h 58m 32s   sec/tick 268.6   sec/kimg 67.14   maintenance 0.2    cpumem 5.78   gpumem 5.59   augment 2.270\n",
            "tick 65    kimg 260.0    time 6h 03m 00s   sec/tick 267.8   sec/kimg 66.95   maintenance 0.2    cpumem 5.78   gpumem 5.57   augment 2.307\n",
            "tick 66    kimg 264.0    time 6h 07m 29s   sec/tick 268.5   sec/kimg 67.13   maintenance 0.2    cpumem 5.78   gpumem 5.57   augment 2.345\n",
            "tick 67    kimg 268.0    time 6h 11m 57s   sec/tick 267.8   sec/kimg 66.94   maintenance 0.2    cpumem 5.78   gpumem 5.61   augment 2.382\n",
            "tick 68    kimg 272.0    time 6h 16m 26s   sec/tick 268.6   sec/kimg 67.14   maintenance 0.2    cpumem 5.78   gpumem 5.59   augment 2.421\n",
            "tick 69    kimg 276.0    time 6h 20m 54s   sec/tick 268.2   sec/kimg 67.05   maintenance 0.2    cpumem 5.78   gpumem 5.58   augment 2.456\n",
            "tick 70    kimg 280.0    time 6h 25m 22s   sec/tick 268.1   sec/kimg 67.03   maintenance 0.2    cpumem 5.78   gpumem 5.61   augment 2.496\n",
            "Evaluating metrics...\n",
            "{\"results\": {\"fid50k_full\": 36.76510503249348}, \"metric\": \"fid50k_full\", \"total_time\": 576.3581643104553, \"total_time_str\": \"9m 36s\", \"num_gpus\": 1, \"snapshot_pkl\": \"network-snapshot-000280.pkl\", \"timestamp\": 1628362826.2869587}\n",
            "tick 71    kimg 284.0    time 6h 39m 44s   sec/tick 268.2   sec/kimg 67.06   maintenance 593.6  cpumem 5.78   gpumem 5.57   augment 2.534\n",
            "tick 72    kimg 288.0    time 6h 44m 13s   sec/tick 268.5   sec/kimg 67.13   maintenance 0.2    cpumem 5.78   gpumem 5.61   augment 2.571\n",
            "tick 73    kimg 292.0    time 6h 48m 41s   sec/tick 267.8   sec/kimg 66.95   maintenance 0.2    cpumem 5.78   gpumem 5.60   augment 2.607\n",
            "tick 74    kimg 296.0    time 6h 53m 10s   sec/tick 268.6   sec/kimg 67.14   maintenance 0.2    cpumem 5.78   gpumem 5.60   augment 2.645\n",
            "tick 75    kimg 300.0    time 6h 57m 38s   sec/tick 267.8   sec/kimg 66.94   maintenance 0.2    cpumem 5.78   gpumem 5.59   augment 2.681\n",
            "tick 76    kimg 304.0    time 7h 02m 06s   sec/tick 268.4   sec/kimg 67.11   maintenance 0.2    cpumem 5.78   gpumem 5.59   augment 2.720\n",
            "tick 77    kimg 308.0    time 7h 06m 34s   sec/tick 268.1   sec/kimg 67.01   maintenance 0.2    cpumem 5.78   gpumem 5.56   augment 2.757\n",
            "tick 78    kimg 312.0    time 7h 11m 03s   sec/tick 268.1   sec/kimg 67.03   maintenance 0.2    cpumem 5.78   gpumem 5.59   augment 2.796\n",
            "tick 79    kimg 316.0    time 7h 15m 31s   sec/tick 268.2   sec/kimg 67.06   maintenance 0.2    cpumem 5.78   gpumem 5.57   augment 2.832\n",
            "tick 80    kimg 320.0    time 7h 20m 00s   sec/tick 268.6   sec/kimg 67.15   maintenance 0.2    cpumem 5.78   gpumem 5.58   augment 2.871\n",
            "Evaluating metrics...\n",
            "{\"results\": {\"fid50k_full\": 36.20958433982769}, \"metric\": \"fid50k_full\", \"total_time\": 577.9135777950287, \"total_time_str\": \"9m 38s\", \"num_gpus\": 1, \"snapshot_pkl\": \"network-snapshot-000320.pkl\", \"timestamp\": 1628366106.6450808}\n",
            "tick 81    kimg 324.0    time 7h 34m 24s   sec/tick 267.9   sec/kimg 66.96   maintenance 596.4  cpumem 5.78   gpumem 5.63   augment 2.909\n",
            "tick 82    kimg 328.0    time 7h 38m 53s   sec/tick 268.6   sec/kimg 67.16   maintenance 0.2    cpumem 5.78   gpumem 5.57   augment 2.947\n",
            "tick 83    kimg 332.0    time 7h 43m 21s   sec/tick 267.9   sec/kimg 66.98   maintenance 0.2    cpumem 5.78   gpumem 5.58   augment 2.982\n",
            "tick 84    kimg 336.0    time 7h 47m 50s   sec/tick 268.7   sec/kimg 67.18   maintenance 0.2    cpumem 5.78   gpumem 5.59   augment 3.016\n",
            "tick 85    kimg 340.0    time 7h 52m 18s   sec/tick 268.3   sec/kimg 67.08   maintenance 0.2    cpumem 5.78   gpumem 5.57   augment 3.053\n",
            "tick 86    kimg 344.0    time 7h 56m 47s   sec/tick 268.2   sec/kimg 67.06   maintenance 0.2    cpumem 5.78   gpumem 5.60   augment 3.093\n",
            "tick 87    kimg 348.0    time 8h 01m 15s   sec/tick 268.3   sec/kimg 67.07   maintenance 0.2    cpumem 5.78   gpumem 5.56   augment 3.131\n",
            "tick 88    kimg 352.0    time 8h 05m 44s   sec/tick 268.7   sec/kimg 67.16   maintenance 0.2    cpumem 5.78   gpumem 5.59   augment 3.170\n",
            "tick 89    kimg 356.0    time 8h 10m 12s   sec/tick 267.9   sec/kimg 66.97   maintenance 0.2    cpumem 5.78   gpumem 5.58   augment 3.209\n",
            "tick 90    kimg 360.0    time 8h 14m 41s   sec/tick 268.6   sec/kimg 67.15   maintenance 0.2    cpumem 5.78   gpumem 5.59   augment 3.247\n",
            "Evaluating metrics...\n",
            "{\"results\": {\"fid50k_full\": 35.310851347994074}, \"metric\": \"fid50k_full\", \"total_time\": 577.8427743911743, \"total_time_str\": \"9m 38s\", \"num_gpus\": 1, \"snapshot_pkl\": \"network-snapshot-000360.pkl\", \"timestamp\": 1628369386.1782603}\n",
            "tick 91    kimg 364.0    time 8h 29m 04s   sec/tick 267.8   sec/kimg 66.96   maintenance 594.8  cpumem 5.79   gpumem 5.59   augment 3.284\n",
            "tick 92    kimg 368.0    time 8h 33m 33s   sec/tick 268.6   sec/kimg 67.16   maintenance 0.2    cpumem 5.79   gpumem 5.57   augment 3.323\n",
            "tick 93    kimg 372.0    time 8h 38m 01s   sec/tick 268.2   sec/kimg 67.06   maintenance 0.2    cpumem 5.79   gpumem 5.62   augment 3.361\n",
            "tick 94    kimg 376.0    time 8h 42m 29s   sec/tick 268.2   sec/kimg 67.04   maintenance 0.2    cpumem 5.79   gpumem 5.60   augment 3.400\n",
            "tick 95    kimg 380.0    time 8h 46m 58s   sec/tick 268.3   sec/kimg 67.07   maintenance 0.2    cpumem 5.79   gpumem 5.57   augment 3.437\n",
            "tick 96    kimg 384.0    time 8h 51m 27s   sec/tick 268.6   sec/kimg 67.15   maintenance 0.2    cpumem 5.79   gpumem 5.59   augment 3.477\n",
            "tick 97    kimg 388.0    time 8h 55m 55s   sec/tick 267.9   sec/kimg 66.97   maintenance 0.2    cpumem 5.79   gpumem 5.61   augment 3.513\n",
            "tick 99    kimg 396.0    time 9h 04m 51s   sec/tick 267.8   sec/kimg 66.96   maintenance 0.2    cpumem 5.79   gpumem 5.58   augment 3.591\n",
            "tick 100   kimg 400.0    time 9h 09m 20s   sec/tick 268.7   sec/kimg 67.17   maintenance 0.2    cpumem 5.79   gpumem 5.61   augment 3.627\n",
            "Evaluating metrics...\n",
            "{\"results\": {\"fid50k_full\": 34.85242650524451}, \"metric\": \"fid50k_full\", \"total_time\": 579.8964734077454, \"total_time_str\": \"9m 40s\", \"num_gpus\": 1, \"snapshot_pkl\": \"network-snapshot-000400.pkl\", \"timestamp\": 1628372668.053727}\n",
            "tick 101   kimg 404.0    time 9h 23m 46s   sec/tick 268.3   sec/kimg 67.08   maintenance 597.5  cpumem 5.79   gpumem 5.64   augment 3.666\n",
            "tick 102   kimg 408.0    time 9h 28m 14s   sec/tick 268.2   sec/kimg 67.06   maintenance 0.2    cpumem 5.79   gpumem 5.59   augment 3.705\n",
            "tick 103   kimg 412.0    time 9h 32m 43s   sec/tick 268.3   sec/kimg 67.07   maintenance 0.2    cpumem 5.79   gpumem 5.57   augment 3.743\n",
            "tick 104   kimg 416.0    time 9h 37m 12s   sec/tick 268.6   sec/kimg 67.16   maintenance 0.2    cpumem 5.79   gpumem 5.61   augment 3.782\n",
            "\n",
            "Aborted!\n"
          ],
          "name": "stdout"
        }
      ]
    },
    {
      "cell_type": "code",
      "metadata": {
        "id": "SYqYKYmLzToa"
      },
      "source": [
        ""
      ],
      "execution_count": null,
      "outputs": []
    }
  ]
}